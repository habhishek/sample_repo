{
 "cells": [
  {
   "cell_type": "markdown",
   "id": "436c6bd7",
   "metadata": {},
   "source": [
    "### Imports"
   ]
  },
  {
   "cell_type": "code",
   "execution_count": 1,
   "id": "9cd1f5c2",
   "metadata": {},
   "outputs": [],
   "source": [
    "import pandas as pd\n",
    "import numpy as np\n",
    "import matplotlib.pyplot as plt\n",
    "import seaborn as sns\n",
    "sns.set_theme()\n",
    "\n",
    "%matplotlib inline"
   ]
  },
  {
   "cell_type": "markdown",
   "id": "d1f3a229",
   "metadata": {},
   "source": [
    "### Utilities"
   ]
  },
  {
   "cell_type": "code",
   "execution_count": 3,
   "id": "1e4791ac",
   "metadata": {},
   "outputs": [],
   "source": [
    "def display_all(df):\n",
    "    with pd.option_context(\"display.max_rows\", 1000):\n",
    "        with pd.option_context(\"display.max_columns\", 1000):\n",
    "            display(df)\n",
    "\n",
    "\n",
    "def univariate_with_fr(df_raw, feature, df_sparedetails):\n",
    "    '''\n",
    "    -------input--------\n",
    "    df_raw = The raw dataframe containing raw data - DataTill233064 without outliers\n",
    "    feature = The feature from raw dataset for with failure rate is required, Allowed values-DATACENTER,\n",
    "    FAILEDPARTITEMGROUP\n",
    "    df_sparedetails = The dataset with spare part details - raw data is merged on this data to calulate installedbase,\n",
    "    followed by the FR%.\n",
    "    -------output-------\n",
    "    pandas DataFrame with failed parts grouped by the feature containing Counts of FAILEDPARTMSF, percentage count of \n",
    "    FAILEDPARTMSF, InstalledBase and FR%\n",
    "    '''\n",
    "    # Create groupby obejct on the raw data with feature required:-\n",
    "    df_raw_feature_group = df_raw.groupby(feature)\n",
    "    # On the group object, aggregate on the counts of FAILEDPARTMSF, sort in descending\n",
    "    df_failed_by_feature = df_raw_feature_group.count()[['FAILEDPARTMSF']].sort_values(by='FAILEDPARTMSF',ascending=False).reset_index()\n",
    "    \n",
    "    # Rename FAILEDPARTMSF to 'Count of FAILEDPARTMSF'\n",
    "    df_failed_by_feature.rename(columns={'FAILEDPARTMSF':'Count of FAILEDPARTMSF'}, inplace=True)\n",
    "\n",
    "    # Make percentage count of FAILEDMARTMSF for each feature as 'Count of FAILEDPARTMSF2'\n",
    "    df_failed_by_feature['Count of FAILEDPARTMSF2']=(df_failed_by_feature['Count of FAILEDPARTMSF']/(df_failed_by_feature['Count of FAILEDPARTMSF'].sum()))*100\n",
    "\n",
    "    # Prepare for merge\n",
    "    left_on = feature\n",
    "    if feature == 'DATACENTER':\n",
    "        right_on = 'DATACENTERCODE'\n",
    "    if feature == 'FAILEDPARTITEMGROUP':\n",
    "        right_on = 'BOMTYPE'\n",
    "    # Sum of spares count grouped by feature\n",
    "    df_sparedetails_feature_group = df_sparedetails.groupby(right_on)\n",
    "    df_sparedetails_by_feature = df_sparedetails_feature_group.sum()[['count']].sort_values(by='count',ascending=False).reset_index()\n",
    "    \n",
    "    # Merge with df_sparedetails on feature to calculate InstalledBase and FR%\n",
    "    df_failed_by_feature = df_failed_by_feature.merge(df_sparedetails_by_feature, left_on=left_on, right_on=right_on)\n",
    "    df_failed_by_feature.drop(labels=right_on, axis=1, inplace=True)\n",
    "\n",
    "    # Rename count to 'InstalledBase'\n",
    "    df_failed_by_feature = df_failed_by_feature.rename(columns={'count':'InstalledBase'})\n",
    "    # Calculate 'FR%'\n",
    "    df_failed_by_feature['FR%'] = df_failed_by_feature['Count of FAILEDPARTMSF']/df_failed_by_feature['InstalledBase']*100\n",
    "    \n",
    "    return df_failed_by_feature\n",
    "\n",
    "\n",
    "def univariate_with_onhanddc(df_raw, feature):\n",
    "    '''\n",
    "    -------input--------\n",
    "    df_raw = The raw dataframe containing raw data - DataTill233064 without outliers\n",
    "    feature = The feature from raw dataset on which grouping is requried, Allowed values-FAILEDMANUFACTURER,\n",
    "    SPAREMANUFACTURER, ISOUTOFSTOCK, ISOUTOFWARRANTY, COUNTRY, YearsGrp, FAILEDPARTMSF\n",
    "    \n",
    "    -------output-------\n",
    "    pandas DataFrame with failed parts grouped by the feature containing Counts of FAILEDPARTMSF, percentage count of \n",
    "    FAILEDPARTMSF, Sum of ONHAND_DC\n",
    "    '''\n",
    "    # Create groupby obejct on the raw data with feature required:-\n",
    "    df_raw_feature_group = df_raw.groupby(feature)\n",
    "    # On the group object, aggregate on the counts of FAILEDPARTMSF, sort in descending\n",
    "    df_failed_by_feature = df_raw_feature_group.count()[['FAILEDPARTMSF']].sort_values(by='FAILEDPARTMSF',ascending=False).reset_index()\n",
    "    \n",
    "    # Rename FAILEDPARTMSF to 'Count of FAILEDPARTMSF'\n",
    "    df_failed_by_feature.rename(columns={'FAILEDPARTMSF':'Count of FAILEDPARTMSF'}, inplace=True)\n",
    "\n",
    "    # Make percentage count of FAILEDMARTMSF for each feature as 'Count of FAILEDPARTMSF2'\n",
    "    df_failed_by_feature['Count of FAILEDPARTMSF2']=(df_failed_by_feature['Count of FAILEDPARTMSF']/(df_failed_by_feature['Count of FAILEDPARTMSF'].sum()))*100\n",
    "\n",
    "    # Find the Sum of ONHAND_DC for each Feature\n",
    "    df_failed_by_feature['Sum of ONHAND_DC'] = df_raw_feature_group.sum()['ONHAND_DC'].loc[df_failed_by_feature[feature]].values\n",
    "    \n",
    "    return df_failed_by_feature\n",
    "\n"
   ]
  },
  {
   "cell_type": "markdown",
   "id": "0f404de9",
   "metadata": {},
   "source": [
    "### Get the Data"
   ]
  },
  {
   "cell_type": "code",
   "execution_count": null,
   "id": "8977fd4a",
   "metadata": {},
   "outputs": [],
   "source": [
    "# Get the raw data - DataTill233064\n",
    "print('LOADING DataTill233064 from Failure_Data_06292021_MoCaSPoV_v1.1....')\n",
    "df_raw = pd.read_excel('Failure_Data_06292021_MoCaSPoV_v1.1.xlsx', sheet_name='DataTill233064', parse_dates=True)\n",
    "# drop the outlier rows\n",
    "df_raw = df_raw[df_raw['Outlier']==0]\n",
    "\n",
    "# Get the Spare details data with age\n",
    "print('LOADING Spare details data from SparesMSF_AgeDetails_07052021....')\n",
    "df_SparesAgeDetails_raw = pd.read_excel('SparesMSF_AgeDetails_07052021.xlsx')"
   ]
  }
 ],
 "metadata": {
  "kernelspec": {
   "display_name": "Python 3",
   "language": "python",
   "name": "python3"
  },
  "language_info": {
   "codemirror_mode": {
    "name": "ipython",
    "version": 3
   },
   "file_extension": ".py",
   "mimetype": "text/x-python",
   "name": "python",
   "nbconvert_exporter": "python",
   "pygments_lexer": "ipython3",
   "version": "3.8.8"
  }
 },
 "nbformat": 4,
 "nbformat_minor": 5
}
